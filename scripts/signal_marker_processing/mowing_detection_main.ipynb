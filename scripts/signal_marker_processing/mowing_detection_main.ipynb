{
 "cells": [
  {
   "cell_type": "markdown",
   "metadata": {},
   "source": [
    "## Demonstration of Mowing Detection ##"
   ]
  },
  {
   "cell_type": "markdown",
   "metadata": {},
   "source": [
    "### IMPORT LIBRARIES ###"
   ]
  },
  {
   "cell_type": "code",
   "execution_count": 12,
   "metadata": {},
   "outputs": [],
   "source": [
    "import json\n",
    "from tqdm.notebook import tqdm\n",
    "\n",
    "# Custom Libraries\n",
    "import parcel_data_sources as pds\n",
    "import time_series_sources as tss\n",
    "import pre_processors as pps\n",
    "import markers_processing as mp\n",
    "import data_displayer as dd\n",
    "import data_sink as ds\n",
    "import marker_aggregation as ma\n",
    "import scenario_evidence as se\n",
    "\n",
    "\n",
    "# Utilities for computing geometric properties of the parcel\n",
    "import geom_utils as gu\n",
    "\n",
    "# Some widgets\n",
    "from ipyfilechooser import FileChooser\n"
   ]
  },
  {
   "cell_type": "markdown",
   "metadata": {},
   "source": [
    "### Open the option file ###"
   ]
  },
  {
   "cell_type": "code",
   "execution_count": 2,
   "metadata": {},
   "outputs": [
    {
     "data": {
      "application/vnd.jupyter.widget-view+json": {
       "model_id": "0b80b3b49a0048fa92bd882b76550611",
       "version_major": 2,
       "version_minor": 0
      },
      "text/plain": [
       "FileChooser(path='.', filename='', show_hidden='False')"
      ]
     },
     "metadata": {},
     "output_type": "display_data"
    }
   ],
   "source": [
    "# get the option file using the FileChooser\n",
    "fc = FileChooser('./')\n",
    "display(fc)"
   ]
  },
  {
   "cell_type": "code",
   "execution_count": 3,
   "metadata": {},
   "outputs": [],
   "source": [
    "optionFilePath = fc.selected\n",
    "optionFile = open(optionFilePath)\n",
    "options = json.load(optionFile)"
   ]
  },
  {
   "cell_type": "markdown",
   "metadata": {},
   "source": [
    "### Create the parcel data factory and the parcel data ###\n",
    "*Parcel data factory: object responsible for creating the parcel data sources* \n",
    "\n",
    "*Parcel data sources: objects responsible for providing the list of parcels and related data*"
   ]
  },
  {
   "cell_type": "code",
   "execution_count": 4,
   "metadata": {},
   "outputs": [
    {
     "name": "stdout",
     "output_type": "stream",
     "text": [
      "Parcel data source created \n",
      "\n"
     ]
    }
   ],
   "source": [
    "parcel_df = pds.parcel_data_factory()\n",
    "parcel_ds = parcel_df.get_parcel_data_source(options)\n",
    "print(\"Parcel data source created \\n\")\n",
    "\n",
    "# Retrieve the list of parcels (FIDs)\n",
    "fid_list = parcel_ds.get_fid_list()"
   ]
  },
  {
   "cell_type": "markdown",
   "metadata": {},
   "source": [
    "### Create the time series source factory and the time series sources ###\n",
    "*Time series source factory: object responsible for creating time series sources*\n",
    "\n",
    "*Time series sources: objects responsible for providing the time series associated to the parcels* "
   ]
  },
  {
   "cell_type": "code",
   "execution_count": 5,
   "metadata": {},
   "outputs": [
    {
     "name": "stdout",
     "output_type": "stream",
     "text": [
      "Time series sources created\n"
     ]
    }
   ],
   "source": [
    "ts_source_factory = tss.time_serie_source_factory()\n",
    "ts_sources = ts_source_factory.get_time_series_sources(options)\n",
    "print(\"Time series sources created\")"
   ]
  },
  {
   "cell_type": "markdown",
   "metadata": {},
   "source": [
    "### Build the pre-processing stage ###\n",
    "*Pre-processor factory: object responsible for allocating the pre-processors*\n",
    "\n",
    "*Pre-processors: objects responsible for pre-processing the input time series*"
   ]
  },
  {
   "cell_type": "code",
   "execution_count": 6,
   "metadata": {},
   "outputs": [
    {
     "name": "stdout",
     "output_type": "stream",
     "text": [
      "['Field_ID', 'Date', 'ndvi_mean', 'ndvi_count', 'ndvi_std']\n"
     ]
    }
   ],
   "source": [
    "print(ts_sources[0].get_components())"
   ]
  },
  {
   "cell_type": "code",
   "execution_count": 7,
   "metadata": {},
   "outputs": [],
   "source": [
    "pp_factory = pps.processor_factory()\n",
    "pre_processors = pp_factory.get_pre_processors(options)"
   ]
  },
  {
   "cell_type": "markdown",
   "metadata": {},
   "source": [
    "### Build the marker detectors ###\n",
    "*Marker detector factory: allocate the marker detectors accoring to the specifications of the option file*\n",
    "\n",
    "*Marker detectors: determine specific features (markers) on the time series*"
   ]
  },
  {
   "cell_type": "code",
   "execution_count": 8,
   "metadata": {},
   "outputs": [],
   "source": [
    "md_factory = mp.marker_detector_factory()\n",
    "marker_detectors = md_factory.get_marker_detectors(options)"
   ]
  },
  {
   "cell_type": "markdown",
   "metadata": {},
   "source": [
    "### Build the marker aggregator ###\n",
    "*Object responsible for aggregating markers from different time series*"
   ]
  },
  {
   "cell_type": "code",
   "execution_count": 9,
   "metadata": {},
   "outputs": [],
   "source": [
    "marker_agg = ma.marker_aggregator(options)"
   ]
  },
  {
   "cell_type": "markdown",
   "metadata": {},
   "source": [
    "### Build the marker data sinks ###\n",
    "*Write marker information to file (csv)*"
   ]
  },
  {
   "cell_type": "code",
   "execution_count": 10,
   "metadata": {},
   "outputs": [],
   "source": [
    "if \"marker-sink\" in options :\n",
    "    ms_option_list = options[\"marker-sink\"]\n",
    "    \n",
    "    mk_sink = ds.marker_sink(ms_option_list[0])\n",
    "    \n",
    "    if len(ms_option_list) > 1 :\n",
    "        agmk_sink = ds.marker_sink(ms_option_list[1])\n",
    "    else:\n",
    "        agmk_sink = None\n",
    "else :\n",
    "    mk_sink = None\n",
    "    agmk_sink = None"
   ]
  },
  {
   "cell_type": "markdown",
   "metadata": {},
   "source": [
    "### Build the data displayer ###\n",
    "*Create summary plots and save them as png figures*"
   ]
  },
  {
   "cell_type": "code",
   "execution_count": 13,
   "metadata": {},
   "outputs": [],
   "source": [
    "data_disp_factory = dd.data_displayer_factory()\n",
    "data_disps = data_disp_factory.get_data_displayers(options)"
   ]
  },
  {
   "cell_type": "markdown",
   "metadata": {},
   "source": [
    "### Scenario Evidence Writer ###"
   ]
  },
  {
   "cell_type": "code",
   "execution_count": 14,
   "metadata": {},
   "outputs": [],
   "source": [
    "if \"scenario-evidence\" in options :\n",
    "    scenario_ev = se.scenario_evidence(options[\"scenario-evidence\"])\n",
    "else :\n",
    "    scenario_ev = None"
   ]
  },
  {
   "cell_type": "markdown",
   "metadata": {},
   "source": [
    "---\n",
    "---\n",
    "## Main Processing Loop ##"
   ]
  },
  {
   "cell_type": "code",
   "execution_count": 15,
   "metadata": {},
   "outputs": [
    {
     "data": {
      "application/vnd.jupyter.widget-view+json": {
       "model_id": "632f46d94c434f868391bf9495b52cca",
       "version_major": 2,
       "version_minor": 0
      },
      "text/plain": [
       "HBox(children=(FloatProgress(value=0.0, max=12.0), HTML(value='')))"
      ]
     },
     "metadata": {},
     "output_type": "display_data"
    },
    {
     "name": "stdout",
     "output_type": "stream",
     "text": [
      "\n"
     ]
    }
   ],
   "source": [
    "for fid in tqdm(fid_list) :\n",
    "    \n",
    "    # get the parcel geometry\n",
    "    parcel_geometry = parcel_ds.get_parcel( fid )\n",
    "    \n",
    "    # get the data related to the specific parcel\n",
    "    parcel_data = {}\n",
    "    \n",
    "    for ts_source in ts_sources :\n",
    "        data = ts_source.get_ts(fid)\n",
    "        if len(data) > 0 :\n",
    "            parcel_data[ts_source.get_signal_type()] = data\n",
    "    \n",
    "    # parcel_data is a dictionary with different pandas dataframes. Each\n",
    "    # dataframe is indexed by a signal/TS key\n",
    "\n",
    "    # Get the properties\n",
    "    geom_prop = gu.get_geometric_properties( parcel_geometry )\n",
    "    \n",
    "    # eventually skip the parcel\n",
    "    # ADD HERE LOGIC TO EVENTUALLY SKIP THE PARCEL\n",
    "    # A similar approach can be adopted to check signal properties\n",
    "    \n",
    "    # Pre-process the data\n",
    "    for pre_pro in pre_processors :\n",
    "        parcel_data = {**parcel_data, **(pre_pro.process(parcel_data))}\n",
    "\n",
    "    # Extract the markers\n",
    "    markers = {}\n",
    "    for marker_det in marker_detectors :\n",
    "        markers = {**markers, **(marker_det.get_markers(parcel_data))}\n",
    "      \n",
    "    # Output the marker information\n",
    "    if mk_sink is not None :\n",
    "        # Output the marker information\n",
    "        mk_sink.dump_marker_info(fid, markers)  \n",
    "\n",
    "    # Create the summary graphs and save it to file\n",
    "    for data_disp in data_disps :\n",
    "        data_disp.dump_to_file(parcel_data, markers, fid)    \n",
    "\n",
    "    # Aggregate the markers\n",
    "    aggregated_markers = marker_agg.aggregate_markers(markers)\n",
    "    # print([x.type for x in aggregated_markers])\n",
    "    \n",
    "    if agmk_sink is not None :\n",
    "        agmk_sink.dump_marker_info(fid, aggregated_markers)\n",
    "\n",
    "    # Write information at the parcel level\n",
    "    if scenario_ev is not None :\n",
    "        scenario_ev.dump(fid, aggregated_markers, geom_prop)"
   ]
  },
  {
   "cell_type": "markdown",
   "metadata": {},
   "source": [
    "### Do some final clean-up ###"
   ]
  },
  {
   "cell_type": "code",
   "execution_count": null,
   "metadata": {},
   "outputs": [],
   "source": [
    "if mk_sink is not None :    \n",
    "    mk_sink.out_file.close()\n",
    "    \n",
    "if agmk_sink is not None :\n",
    "    agmk_sink.out_file.close()\n",
    "    \n",
    "if scenario_ev is not None :\n",
    "    scenario_ev.out_file.close()"
   ]
  },
  {
   "cell_type": "code",
   "execution_count": null,
   "metadata": {},
   "outputs": [],
   "source": []
  }
 ],
 "metadata": {
  "kernelspec": {
   "display_name": "Python 3",
   "language": "python",
   "name": "python3"
  },
  "language_info": {
   "codemirror_mode": {
    "name": "ipython",
    "version": 3
   },
   "file_extension": ".py",
   "mimetype": "text/x-python",
   "name": "python",
   "nbconvert_exporter": "python",
   "pygments_lexer": "ipython3",
   "version": "3.6.9"
  }
 },
 "nbformat": 4,
 "nbformat_minor": 5
}
