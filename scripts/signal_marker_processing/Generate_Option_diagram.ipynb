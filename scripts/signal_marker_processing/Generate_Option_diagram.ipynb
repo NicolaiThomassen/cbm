{
 "cells": [
  {
   "cell_type": "markdown",
   "id": "d456bc28",
   "metadata": {},
   "source": [
    "## Generate a graphical representation of the Option File ##"
   ]
  },
  {
   "cell_type": "markdown",
   "id": "32e829e2",
   "metadata": {},
   "source": [
    "### IMPORT LIBRARIES ###"
   ]
  },
  {
   "cell_type": "code",
   "execution_count": 1,
   "id": "3f2771f7",
   "metadata": {},
   "outputs": [],
   "source": [
    "import json\n",
    "import os\n",
    "import matplotlib.pyplot as plt\n",
    "import matplotlib.image as mpimg\n",
    "\n",
    "import options_to_dot as otd\n",
    "\n",
    "# Some widgets\n",
    "from ipyfilechooser import FileChooser"
   ]
  },
  {
   "cell_type": "markdown",
   "id": "6e4e4f62",
   "metadata": {},
   "source": [
    "### Open the option file ###"
   ]
  },
  {
   "cell_type": "code",
   "execution_count": 2,
   "id": "23d0c1a1",
   "metadata": {},
   "outputs": [
    {
     "data": {
      "application/vnd.jupyter.widget-view+json": {
       "model_id": "832e5b02ef094a60bd2e6a037a61555e",
       "version_major": 2,
       "version_minor": 0
      },
      "text/plain": [
       "FileChooser(path='/home/daniele/Documents/Projects/2021/github/cbm-gt', filename='', title='', show_hidden=Fal…"
      ]
     },
     "metadata": {},
     "output_type": "display_data"
    }
   ],
   "source": [
    "# get the option file using the FileChooser\n",
    "fc = FileChooser('./')\n",
    "display(fc)"
   ]
  },
  {
   "cell_type": "code",
   "execution_count": 3,
   "id": "7b9e4f10",
   "metadata": {},
   "outputs": [],
   "source": [
    "optionFilePath = fc.selected\n",
    "optionFile = open(optionFilePath)\n",
    "options = json.load(optionFile)"
   ]
  },
  {
   "cell_type": "markdown",
   "id": "9be35ce5",
   "metadata": {},
   "source": [
    "### Open the option file ###\n",
    "A dot file (to be compiled with graphviz) will be produced"
   ]
  },
  {
   "cell_type": "code",
   "execution_count": 4,
   "id": "e4ef9061",
   "metadata": {},
   "outputs": [],
   "source": [
    "outputFilePath = optionFilePath[:optionFilePath.rfind(\".\")] + \".gv\"\n",
    "outputFile = open(outputFilePath, 'w')"
   ]
  },
  {
   "cell_type": "markdown",
   "id": "9fc68c8c",
   "metadata": {},
   "source": [
    "### Generate the output dot file ###"
   ]
  },
  {
   "cell_type": "code",
   "execution_count": 5,
   "id": "a04bdcf6",
   "metadata": {},
   "outputs": [],
   "source": [
    "otd.generate_dot_diagram(options, outputFile)"
   ]
  },
  {
   "cell_type": "markdown",
   "id": "b3a02c5e",
   "metadata": {},
   "source": [
    "### Compile the png file ###\n",
    "It will works only if you have dot installed and in the system path"
   ]
  },
  {
   "cell_type": "code",
   "execution_count": 6,
   "id": "72c754cc",
   "metadata": {},
   "outputs": [
    {
     "data": {
      "image/png": "[encoded data removed]",
      "text/plain": [
       "<Figure size 432x288 with 1 Axes>"
      ]
     },
     "metadata": {
      "needs_background": "light"
     },
     "output_type": "display_data"
    }
   ],
   "source": [
    "outputPngPath = optionFilePath[:optionFilePath.rfind(\".\")] + \".png\"\n",
    "os.system(f\"dot -Tpng \\\"{outputFilePath}\\\" -o \\\"{outputPngPath}\\\"\")\n",
    "\n",
    "img = mpimg.imread(outputPngPath)\n",
    "imgplot = plt.imshow(img) "
   ]
  },
  {
   "cell_type": "code",
   "execution_count": null,
   "id": "0bacc627",
   "metadata": {},
   "outputs": [],
   "source": []
  }
 ],
 "metadata": {
  "kernelspec": {
   "display_name": "Python 3 (ipykernel)",
   "language": "python",
   "name": "python3"
  },
  "language_info": {
   "codemirror_mode": {
    "name": "ipython",
    "version": 3
   },
   "file_extension": ".py",
   "mimetype": "text/x-python",
   "name": "python",
   "nbconvert_exporter": "python",
   "pygments_lexer": "ipython3",
   "version": "3.8.11"
  }
 },
 "nbformat": 4,
 "nbformat_minor": 5
}
