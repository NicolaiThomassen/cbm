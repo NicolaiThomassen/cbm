{
 "cells": [
  {
   "cell_type": "markdown",
   "metadata": {},
   "source": [
    "### Define parcel shapefile and output folder in Outreach Member States"
   ]
  },
  {
   "cell_type": "code",
   "execution_count": 1,
   "metadata": {},
   "outputs": [],
   "source": [
    "from pathlib import Path\n",
    "home = str(Path.home())\n",
    "\n",
    "# NL 2018\n",
    "year = 2018\n",
    "default_shapefile = home + \"/ownCloud/GTCAP/Outreach_2021/MS_direcory/NL/mowing_detection/vector/parcels_2018_m.shp\"\n",
    "default_out_tif_folder_base = home + \"/ownCloud/GTCAP/Outreach_2021/MS_direcory/NL/mowing_detection/chips/2018_for_webinar\"\n"
   ]
  },
  {
   "cell_type": "markdown",
   "metadata": {},
   "source": [
    "### Run the calendar view GUI"
   ]
  },
  {
   "cell_type": "code",
   "execution_count": 2,
   "metadata": {
    "scrolled": false
   },
   "outputs": [
    {
     "data": {
      "application/vnd.jupyter.widget-view+json": {
       "model_id": "193476e2eea2433eae905e0abb5ae929",
       "version_major": 2,
       "version_minor": 0
      },
      "text/plain": [
       "VBox(children=(HBox(children=(HTML(value='<h1>Run calendar view script</h1'),)), VBox(children=(Tab(children=(…"
      ]
     },
     "metadata": {},
     "output_type": "display_data"
    }
   ],
   "source": [
    "import os\n",
    "import sys\n",
    "from pathlib import Path\n",
    "home = str(Path.home())\n",
    "\n",
    "import calendar_view_gui\n",
    "import importlib\n",
    "importlib.reload(calendar_view_gui)\n",
    "\n",
    "gui = calendar_view_gui.calendar_view_gui(\n",
    "default_search_window_start_date = str(year-1) +\"-10-01\",  \n",
    "default_search_window_end_date = str(year) +\"-12-31\",  \n",
    "default_index_graph_start_date = str(year-1) +\"-10-01\",\n",
    "default_index_graph_end_date = str(year) +\"-12-31\",\n",
    "\n",
    "default_shapefile = default_shapefile,\n",
    "default_out_tif_folder_base = default_out_tif_folder_base)\n",
    "\n",
    "gui"
   ]
  },
  {
   "cell_type": "code",
   "execution_count": null,
   "metadata": {},
   "outputs": [],
   "source": []
  }
 ],
 "metadata": {
  "kernelspec": {
   "display_name": "Python 3",
   "language": "python",
   "name": "python3"
  },
  "language_info": {
   "codemirror_mode": {
    "name": "ipython",
    "version": 3
   },
   "file_extension": ".py",
   "mimetype": "text/x-python",
   "name": "python",
   "nbconvert_exporter": "python",
   "pygments_lexer": "ipython3",
   "version": "3.6.10"
  }
 },
 "nbformat": 4,
 "nbformat_minor": 4
}
