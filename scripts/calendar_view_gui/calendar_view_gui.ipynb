{
 "cells": [
  {
   "cell_type": "markdown",
   "metadata": {},
   "source": [
    "### Define default parameters and lauch the chip extract processing GUI"
   ]
  },
  {
   "cell_type": "code",
   "execution_count": null,
   "metadata": {
    "scrolled": false
   },
   "outputs": [],
   "source": [
    "from pathlib import Path\n",
    "home = str(Path.home())\n",
    "\n",
    "# MS = \"SE\"\n",
    "# year = 2020\n",
    "# detection_type = \"mowing_detection\"\n",
    "# shapefile_name = \"se_2020_s.shp\"\n",
    "# chip_folder =    \"2020_20210926_scl_from_rest\"\n",
    "# ptype = \"s\"\n",
    "\n",
    "# MS = \"BE-WA\"\n",
    "# year = 2020\n",
    "# detection_type = \"mowing_detection\"\n",
    "# shapefile_name = \"bewa_2020a_5types_rnd_first_50.shp\"\n",
    "# chip_folder =    \"2020_20210926_scl_from_rest\"\n",
    "# ptype = \"\"\n",
    "\n",
    "MS = \"CZ\"\n",
    "year = 2019\n",
    "detection_type = \"mowing_detection\"\n",
    "shapefile_name = \"cz_2019.shp\"\n",
    "chip_folder =    \"2019_20210926_scl_from_rest\"\n",
    "ptype = \"\"\n",
    "\n",
    "#Define your RESTful API username and password\n",
    "api_user, api_pass = [your_api_username], [your_api_password]\n",
    "\n",
    "default_shapefile = home + \"/ownCloud/GTCAP/Outreach_2021/MS_direcory/\" + \\\n",
    "                    MS + \"/\" + detection_type + \"/vector/\" + shapefile_name\n",
    "default_out_tif_folder_base = \"e:/munka/outreach/\" + MS + \"/\" + detection_type + \"/chips/\" + chip_folder \n",
    "\n",
    "import calendar_view_gui\n",
    "import importlib\n",
    "importlib.reload(calendar_view_gui)\n",
    "\n",
    "gui = calendar_view_gui.calendar_view_gui(\n",
    "default_search_window_start_date = str(year) +\"-01-01\",  \n",
    "default_search_window_end_date = str(year) +\"-12-31\",  \n",
    "default_index_graph_start_date = str(year) +\"-01-01\",\n",
    "default_index_graph_end_date = str(year) +\"-12-31\",\n",
    "\n",
    "default_shapefile = default_shapefile,\n",
    "default_out_tif_folder_base = default_out_tif_folder_base,\n",
    "MS = MS,\n",
    "year = str(year),\n",
    "api_user = api_user,\n",
    "api_pass = api_pass,\n",
    "ptype = ptype)\n",
    "\n",
    "gui"
   ]
  },
  {
   "cell_type": "code",
   "execution_count": null,
   "metadata": {},
   "outputs": [],
   "source": []
  }
 ],
 "metadata": {
  "kernelspec": {
   "display_name": "Python 3",
   "language": "python",
   "name": "python3"
  },
  "language_info": {
   "codemirror_mode": {
    "name": "ipython",
    "version": 3
   },
   "file_extension": ".py",
   "mimetype": "text/x-python",
   "name": "python",
   "nbconvert_exporter": "python",
   "pygments_lexer": "ipython3",
   "version": "3.6.10"
  }
 },
 "nbformat": 4,
 "nbformat_minor": 4
}
