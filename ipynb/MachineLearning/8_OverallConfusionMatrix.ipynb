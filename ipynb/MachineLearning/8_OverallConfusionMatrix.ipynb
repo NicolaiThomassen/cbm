{
 "cells": [
  {
   "cell_type": "markdown",
   "metadata": {},
   "source": [
    "# Get the overall confusion matrix\n",
    "\n",
    "This notebook takes the aggregated predictions generated in the previous notebook and arranges them in a confusion matrix. We make the criterion for comission/omission quite strict by ensuring that an outlier is defined only if all 3 predicted class labels are the same and NOT EQUAL to the labeled class. Relaxing this rule will result in more confusion.\n",
    "\n",
    "We show results in terms of parcel counts and in terms of total area in the parcels. Not surprisingly, the overall accuracy in the latter is significantly larger, as most confusion occurs with smaller parcels.\n",
    "\n"
   ]
  },
  {
   "cell_type": "code",
   "execution_count": null,
   "metadata": {},
   "outputs": [],
   "source": [
    "import psycopg2\n",
    "import pandas as pd\n",
    "import numpy as np\n",
    "import psycopg2\n",
    "from collections import Counter"
   ]
  },
  {
   "cell_type": "code",
   "execution_count": null,
   "metadata": {},
   "outputs": [],
   "source": [
    "# Conect to the database\n",
    "conn = psycopg2.connect(\n",
    "    host=\"localhost\",\n",
    "    database=\"postgres\",\n",
    "    user=\"postgres\",\n",
    "    password=\"\")\n",
    "cur = conn.cursor()"
   ]
  },
  {
   "cell_type": "code",
   "execution_count": null,
   "metadata": {},
   "outputs": [],
   "source": [
    "# Set the table names\n",
    "parcels_table = \"aoi2020\"\n",
    "bs_tensorflow = \"bs_tensorflow\"\n",
    "\n",
    "# Set the folder to store the data\n",
    "data_folder = ''"
   ]
  },
  {
   "cell_type": "code",
   "execution_count": 1,
   "metadata": {},
   "outputs": [
    {
     "name": "stdout",
     "output_type": "stream",
     "text": [
      "Overall Accuracy (area):  94.26771705313865\n",
      "          GRA      MAI      POT       WWH    SBT      WBA      WOR       SCE      WCE      VEG    FAL\n",
      "GRA  193017.4    783.2     37.3     386.0    0.9     74.2     15.3    1359.9   1306.8     85.1  199.0\n",
      "MAI     790.4  95602.4     78.6      16.2    2.7     17.9      6.0    1074.9     78.5     15.1    6.6\n",
      "POT     161.3    463.6  13388.4       1.3   35.1     25.9      0.0     367.6     36.5    202.7    0.4\n",
      "WWH     492.6     55.0     22.1  119928.1    0.0    141.9     38.5    2561.3    312.7      0.0    0.4\n",
      "SBT       8.8    322.9    550.1       0.0  836.3      0.0      0.0      22.0      1.9      0.0    0.0\n",
      "WBA     308.3      1.8     11.3     812.5    0.0  28612.2      9.1     299.9    260.0      0.0    0.0\n",
      "WOR      51.4    100.1      4.2     178.3    0.0    141.8  43265.4     438.0    100.2    135.8    6.0\n",
      "SCE    3008.9   1870.2    228.0     878.1    0.0     91.9     67.0  238449.1   2196.9    150.9   59.9\n",
      "WCE    1362.0    327.3      2.6     742.8    0.7    119.0     47.5    9586.7  47812.5     35.0   24.6\n",
      "VEG     215.2    277.6    538.0       0.0    0.0      5.7     27.8    2449.5    137.9  11757.4    7.0\n",
      "FAL    8027.4    155.6     13.8      24.2    0.0      9.1     15.1     459.9     54.0     24.2  960.8\n",
      "\n",
      "\n",
      "Overall Accuracy (count):  91.0144758346953\n",
      "         GRA      MAI     POT      WWH    SBT     WBA     WOR      SCE     WCE     VEG    FAL\n",
      "GRA  66755.0    273.0    20.0     74.0    2.0    13.0     6.0    617.0   200.0    18.0  149.0\n",
      "MAI    307.0  13967.0    21.0      2.0    1.0     6.0     2.0    232.0    19.0     3.0    9.0\n",
      "POT     93.0     94.0  1998.0      1.0    2.0     7.0     0.0    120.0    12.0    67.0    1.0\n",
      "WWH    202.0      9.0     6.0  15124.0    0.0    26.0     9.0    434.0    62.0     0.0    1.0\n",
      "SBT      5.0     82.0    80.0      0.0  116.0     0.0     0.0     10.0     1.0     0.0    0.0\n",
      "WBA    114.0      2.0     5.0    129.0    0.0  3896.0     2.0     53.0    51.0     0.0    0.0\n",
      "WOR     25.0     12.0     2.0     23.0    0.0    19.0  4952.0     68.0    16.0    14.0    2.0\n",
      "SCE   1212.0    450.0    45.0    186.0    0.0    23.0    23.0  38599.0   431.0    32.0   28.0\n",
      "WCE    515.0     89.0     1.0    112.0    1.0    19.0     8.0   1973.0  8274.0     8.0   11.0\n",
      "VEG     63.0     54.0    75.0      0.0    0.0     1.0     6.0    290.0    26.0  1438.0    2.0\n",
      "FAL   5390.0    108.0    11.0     16.0    0.0     3.0    13.0    280.0    39.0    15.0  807.0\n"
     ]
    }
   ],
   "source": [
    "\n",
    "classLabelSql = F\"\"\"\n",
    "    SELECT pid::int, class::int, majclass::int, majcount::int,\n",
    "        st_area(wkb_geometry)/10000.0 as area \n",
    "    FROM {bs_tensorflow} tf, {parcels_table}\n",
    "    WHERE tf.pid = {parcels}.ogc_fid\n",
    "    \"\"\"\n",
    "\n",
    "df = pd.read_sql_query(classLabelSql, conn)\n",
    "\n",
    "carea = np.zeros((11, 11))\n",
    "ccnt = np.zeros((11, 11))\n",
    "\n",
    "for i in df.index:\n",
    "    row = df.loc[i]\n",
    "    n = int(row['class'])    \n",
    "    m = int(row['majclass'])\n",
    "    area = float(row['area'])\n",
    "    cnt = int(row['majcount'])\n",
    "    if (cnt > 2) and (n != m):\n",
    "        carea[n,m] += area\n",
    "        ccnt[n,m] += 1\n",
    "    else:\n",
    "        carea[n,n] += area\n",
    "        ccnt[n,n] += 1\n",
    "\n",
    "np.set_printoptions(suppress=True, precision=0)\n",
    "pd.set_option('expand_frame_repr', False)\n",
    "pd.set_option('precision', 1)\n",
    "\n",
    "print (\"Overall Accuracy (area): \", 100.0*carea.trace()/carea.sum())\n",
    "\n",
    "# These are the ordered labels for class 0 to 10\n",
    "crops =['GRA', 'MAI', 'POT', 'WWH', 'SBT', 'WBA', 'WOR', 'SCE', 'WCE', 'VEG', 'FAL']\n",
    "\n",
    "print(pd.DataFrame(carea, index = crops, columns = crops))\n",
    "\n",
    "print (\"\\n\\nOverall Accuracy (count): \", 100.0*ccnt.trace()/ccnt.sum())\n",
    "\n",
    "print(pd.DataFrame(ccnt, index = crops, columns = crops))\n",
    "\n"
   ]
  },
  {
   "cell_type": "markdown",
   "metadata": {},
   "source": [
    "You can now move back to the general notebook session to select and plot the outlier signatures versus their neighboring conformist parcels.\n"
   ]
  },
  {
   "cell_type": "code",
   "execution_count": null,
   "metadata": {},
   "outputs": [],
   "source": [
    "# Close database connection\n",
    "database.close_connection()"
   ]
  }
 ],
 "metadata": {
  "kernelspec": {
   "display_name": "Python 3",
   "language": "python",
   "name": "python3"
  },
  "language_info": {
   "codemirror_mode": {
    "name": "ipython",
    "version": 3
   },
   "file_extension": ".py",
   "mimetype": "text/x-python",
   "name": "python",
   "nbconvert_exporter": "python",
   "pygments_lexer": "ipython3",
   "version": "3.8.4"
  }
 },
 "nbformat": 4,
 "nbformat_minor": 4
}
