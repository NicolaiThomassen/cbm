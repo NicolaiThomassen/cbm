{
 "cells": [
  {
   "cell_type": "markdown",
   "metadata": {},
   "source": [
    "## Get Crop Statistics\n",
    "\n",
    "**Get statistics for the crop type and area in the set and prepare for machine learning set up.**\n",
    "\n",
    "In this notebook there are two different group of scripts. The first is to get the crop type from the parcels table, and the second to get the crop types from a different table.\n",
    "\n",
    "At the first example the crop type is unique and do not need to be grouped, in the second example the crop types need to be grouped based on radiometrically similar crops."
   ]
  },
  {
   "cell_type": "code",
   "execution_count": null,
   "metadata": {},
   "outputs": [],
   "source": [
    "import psycopg2\n",
    "import pandas as pd\n",
    "import numpy as np"
   ]
  },
  {
   "cell_type": "code",
   "execution_count": null,
   "metadata": {},
   "outputs": [],
   "source": [
    "# Conect to the database\n",
    "conn = psycopg2.connect(\n",
    "    host=\"localhost\",\n",
    "    database=\"postgres\",\n",
    "    user=\"postgres\",\n",
    "    password=\"\")\n",
    "cur = conn.cursor()"
   ]
  },
  {
   "cell_type": "code",
   "execution_count": null,
   "metadata": {},
   "outputs": [],
   "source": [
    "# Set the table names\n",
    "parcels_table = \"aoi2020\"\n",
    "crop_type_column = \"\" # Set the crop type column\n",
    "\n",
    "bs_signatures = \"aoi2020_bs_signatures\"\n",
    "s2_signatures = \"aoi2020_s2_signatures\"\n",
    "c6_signatures = \"aoi2020_c6_signatures\"\n",
    "bs_extracts = \"aoi2020_bs_extracts\"\n",
    "date_start = \"2019-01-01\"\n",
    "date_end = \"2019-10-15\"\n",
    "\n",
    "\n",
    "# Set the folder to store the data\n",
    "data_folder = ''"
   ]
  },
  {
   "cell_type": "markdown",
   "metadata": {},
   "source": [
    "## Get crop types from the same table\n",
    "Use the below scripts in case the cropcodes are in the same table with the parcels table.\n",
    "\n",
    "**Note:** These scripts do not work if the crop types are in diferent table, in case they are in diferent table use the scripts at the end of the notebook \"Get crop types from diferent table\"."
   ]
  },
  {
   "cell_type": "code",
   "execution_count": null,
   "metadata": {},
   "outputs": [],
   "source": [
    "%%time\n",
    "\n",
    "selectSql = f\"\"\"\n",
    "    SELECT ogc_fid, {crop_type_column}, ST_area(wkb_geometry)\n",
    "    FROM {parcels_table}\n",
    "    WHERE ogc_fid In (select distinct pid\n",
    "    FROM {bs_extracts});\n",
    "\"\"\"\n",
    "\n",
    "df = pd.read_sql_query(selectSql, conn)\n",
    "\n",
    "print(\"Total: \", len(df.index))\n",
    "\n",
    "df[0:10]"
   ]
  },
  {
   "cell_type": "code",
   "execution_count": null,
   "metadata": {},
   "outputs": [],
   "source": [
    "# Close database connection.\n",
    "database.close_connection()"
   ]
  },
  {
   "cell_type": "code",
   "execution_count": null,
   "metadata": {},
   "outputs": [],
   "source": [
    "total_area = df['st_area'].sum()\n",
    "\n",
    "crop_stats =[]\n",
    "\n",
    "for c in df[crop_type_column].unique():\n",
    "    cdict = {}\n",
    "    cdict['crop'] = c\n",
    "    cdict['area'] = df[df[crop_type_column]==c]['st_area'].sum()\n",
    "    cdict['relarea'] = cdict.get('area')/total_area\n",
    "    crop_stats.append(cdict)\n",
    "    \n",
    "crop_area = pd.DataFrame(crop_stats)\n",
    "crop_area.set_index('crop', inplace=True)\n",
    "\n",
    "sorted_crop_area = crop_area.sort_values(by=['relarea'], ascending=False)\n",
    "\n",
    "sorted_crop_area['cum_relarea'] = sorted_crop_area['relarea'].cumsum(axis = 0)\n",
    "\n",
    "sorted_crop_area[0:13]"
   ]
  },
  {
   "cell_type": "code",
   "execution_count": null,
   "metadata": {},
   "outputs": [],
   "source": [
    "\n",
    "taggable = sorted_crop_area[sorted_crop_area['cum_relarea'] < 0.98].index\n",
    "\n",
    "df['class'] = df[crop_type_column].map(lambda r: (np.array(np.where(taggable == r)[0])) )\n",
    "df['class'] = df['class'].map(lambda r: r[0] if len(r) else -1)\n",
    "\n",
    "classes = df[df['class']>-1].copy()\n",
    "\n",
    "classes.drop([crop_type_column, 'st_area'], axis=1, inplace=True)\n",
    "classes.set_index('ogc_fid', inplace=True)\n",
    "\n",
    "classes['class'].unique()\n"
   ]
  },
  {
   "cell_type": "code",
   "execution_count": null,
   "metadata": {},
   "outputs": [],
   "source": [
    "# Export the data to a csv file.\n",
    "classes.to_csv(f'{data_folder}{parcels_table}_cropclasses.csv')"
   ]
  },
  {
   "cell_type": "markdown",
   "metadata": {},
   "source": [
    "## Get crop types from diferent table\n",
    "Use the below scripts in case the cropcodes are in a different table from the parcels table.\n",
    "\n",
    "**Note:** These scripts do not work if the crop types are in the same table, in case they are in the same table use the above scripts instead."
   ]
  },
  {
   "cell_type": "code",
   "execution_count": null,
   "metadata": {},
   "outputs": [],
   "source": [
    "# Set parameters\n",
    "column_parcels_type_code = \"\" # Set the column name with the codes of the parcel type\n",
    "table_cropcodes = \"\" # Set the name of the table with the crop codes\n",
    "\n",
    "column_crop_code = \"\" # Set the crop code column from the cropcodes tabel\n",
    "column_crop_name = \"\" # Set the crop name column from the cropcodes tabel"
   ]
  },
  {
   "cell_type": "code",
   "execution_count": null,
   "metadata": {},
   "outputs": [],
   "source": [
    "selectSql = f\"\"\"\n",
    "    SELECT\n",
    "        distinct ogc_fid,\n",
    "        par.{column_parcels_type_code}::int,\n",
    "        st_area(wkb_geometry),\n",
    "        cro.{column_crop_name}\n",
    "    FROM {parcels_table} par, {table_cropcodes} cro\n",
    "    WHERE ogc_fid in (SELECT distinct pid FROM {bs_extracts})\n",
    "    And par.{column_parcels_type_code}=cro.{column_crop_code};\n",
    "    \"\"\"\n",
    "df = pd.read_sql_query(selectSql, conn)\n",
    "\n",
    "\n",
    "df[0:10]"
   ]
  },
  {
   "cell_type": "code",
   "execution_count": null,
   "metadata": {},
   "outputs": [],
   "source": [
    "# Close database connection\n",
    "database.close_connection()"
   ]
  },
  {
   "cell_type": "code",
   "execution_count": null,
   "metadata": {},
   "outputs": [],
   "source": [
    "# This is an example of grouping radiometrically similar crops.\n",
    "# Only need is some cases depending of the data.\n",
    "df['cropgroup'] = -1\n",
    "cropcode = crop_type_column\n",
    "# gra\n",
    "df.loc[df[cropcode].isin([260, 252, 108, 254, 276, 263, 247, 101, 251, 111, 106, 250, 267, 268, 257, 113, 255, 264]), 'cropgroup']=0\n",
    "# mai \n",
    "df.loc[df[cropcode].isin([216,5]), 'cropgroup'] = 1\n",
    "# pot \n",
    "df.loc[df[cropcode].isin([151, 152]), 'cropgroup'] = 2\n",
    "# wwh \n",
    "df.loc[df[cropcode].isin([11,13]), 'cropgroup'] = 3\n",
    "# sbt \n",
    "df.loc[df[cropcode].isin([160,280]), 'cropgroup'] = 4\n",
    "# wba \n",
    "df.loc[df[cropcode].isin([10]), 'cropgroup'] = 5\n",
    "# wor \n",
    "df.loc[df[cropcode].isin([22]), 'cropgroup'] = 6\n",
    "# sce \n",
    "df.loc[df[cropcode].isin([1,2]), 'cropgroup'] = 7\n",
    "# wce \n",
    "df.loc[df[cropcode].isin([15,3,14]), 'cropgroup'] = 8\n",
    "# veg \n",
    "df.loc[df[cropcode].isin([30,424,31,124]), 'cropgroup'] = 9\n",
    "# fal. Make sure 308 and 310 are in this group, because they have different labels!!!!!!\n",
    "df.loc[df[cropcode].isin([308, 310, 325, 327]), 'cropgroup'] = 10\n",
    "\n",
    "df[0:10]"
   ]
  },
  {
   "cell_type": "code",
   "execution_count": null,
   "metadata": {},
   "outputs": [],
   "source": [
    "len(df)"
   ]
  },
  {
   "cell_type": "code",
   "execution_count": null,
   "metadata": {},
   "outputs": [],
   "source": [
    "total_area = df['st_area'].sum()\n",
    "\n",
    "crop_stats =[]\n",
    "\n",
    "for c in df['cropgroup'].unique():\n",
    "    cdict = {}\n",
    "    cdict['crop'] = c\n",
    "    # cdict['cropname'] = df[df[crop_type_column]==c]['afgroede'].unique()\n",
    "    cdict['area'] = df[df['cropgroup']==c]['st_area'].sum()\n",
    "    cdict['relarea'] = cdict.get('area')/total_area\n",
    "    crop_stats.append(cdict)\n",
    "    \n",
    "crop_area = pd.DataFrame(crop_stats)\n",
    "crop_area.set_index('crop', inplace=True)\n",
    "\n",
    "sorted_crop_area = crop_area.sort_values(by=['relarea'], ascending=False)\n",
    "\n",
    "sorted_crop_area['cum_relarea'] = sorted_crop_area['relarea'].cumsum(axis = 0)\n",
    "\n",
    "sorted_crop_area[0:25]"
   ]
  },
  {
   "cell_type": "code",
   "execution_count": null,
   "metadata": {},
   "outputs": [],
   "source": [
    "df[df['cropgroup']==-1][[crop_type_column, 'afgroede']]\n"
   ]
  },
  {
   "cell_type": "code",
   "execution_count": null,
   "metadata": {},
   "outputs": [],
   "source": [
    "#taggable = sorted_crop_area[sorted_crop_area['cropgroup'] > 0].index\n",
    "\n",
    "#df['class'] = df['afgkode'].map(lambda r: (np.array(np.where(taggable == r)[0])) )\n",
    "#df['class'] = df['class'].map(lambda r: r[0] if len(r) else -1)\n",
    "\n",
    "classes = df[df['cropgroup']>-1].copy()\n",
    "\n",
    "classes.drop(['afgkode', 'st_area'], axis=1, inplace=True)\n",
    "classes.set_index('ogc_fid', inplace=True)\n",
    "\n",
    "classes['cropgroup'].unique()"
   ]
  },
  {
   "cell_type": "code",
   "execution_count": null,
   "metadata": {},
   "outputs": [],
   "source": [
    "# Export the data to a csv file.\n",
    "classes.to_csv(f'{data_folder}{parcels_table}_cropclasses.csv')"
   ]
  },
  {
   "cell_type": "code",
   "execution_count": null,
   "metadata": {},
   "outputs": [],
   "source": []
  }
 ],
 "metadata": {
  "kernelspec": {
   "display_name": "Python 3",
   "language": "python",
   "name": "python3"
  },
  "language_info": {
   "codemirror_mode": {
    "name": "ipython",
    "version": 3
   },
   "file_extension": ".py",
   "mimetype": "text/x-python",
   "name": "python",
   "nbconvert_exporter": "python",
   "pygments_lexer": "ipython3",
   "version": "3.8.4"
  }
 },
 "nbformat": 4,
 "nbformat_minor": 4
}
