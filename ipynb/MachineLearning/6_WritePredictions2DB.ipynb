{
 "cells": [
  {
   "cell_type": "markdown",
   "metadata": {},
   "source": [
    "## Write predictions to the database"
   ]
  },
  {
   "cell_type": "code",
   "execution_count": 11,
   "metadata": {},
   "outputs": [],
   "source": [
    "import psycopg2\n",
    "import pandas as pd\n",
    "import numpy as np"
   ]
  },
  {
   "cell_type": "code",
   "execution_count": null,
   "metadata": {},
   "outputs": [],
   "source": [
    "# Conect to the database\n",
    "conn = psycopg2.connect(\n",
    "    host=\"localhost\",\n",
    "    database=\"postgres\",\n",
    "    user=\"postgres\",\n",
    "    password=\"\")\n",
    "cur = conn.cursor()"
   ]
  },
  {
   "cell_type": "code",
   "execution_count": null,
   "metadata": {},
   "outputs": [],
   "source": [
    "# Set the table names\n",
    "parcels_table = \"aoi2020\"\n",
    "bs_tensorflow = \"bs_tensorflow\"\n",
    "\n",
    "# Set the folder to store the data\n",
    "data_folder = ''"
   ]
  },
  {
   "cell_type": "code",
   "execution_count": null,
   "metadata": {},
   "outputs": [],
   "source": [
    "\n",
    "insertSql = \"INSERT into {} (pid, class, {}) values ({}, {}, {})\"\n",
    "\n",
    "updateSql = \"UPDATE {} set {} = {} WHERE pid = {}\"\n",
    "\n",
    "nchunks = 4\n",
    "\n",
    "index = pd.DataFrame().index\n",
    "\n",
    "for n in range(nchunks):\n",
    "    df = pd.read_csv(f'{data_}{parcels_table}_predictions_{n}.csv', index_col = 0, low_memory=False)\n",
    "    r_index = df.columns[1:]\n",
    "\n",
    "    df[f'pred{n}'] = df.apply(lambda x: np.array(x[r_index]).argmax(), axis=1)\n",
    "\n",
    "    df.drop(r_index, axis=1, inplace=True)\n",
    "    \n",
    "    df = df[~df.index.duplicated(keep='last')]\n",
    "    print(n, len(df))\n",
    "    \n",
    "    df_new = df.loc[set(df.index) - set(index)].copy()\n",
    "    df_old = df.loc[index].copy()\n",
    "    df_old.dropna(inplace=True)\n",
    "\n",
    "    if len(df_new):\n",
    "        for i in df_new.index:\n",
    "            r = df_new.loc[i]\n",
    "            cur.execute(insertSql.format(bs_tensorflow, f'p{n}', i, r[0], r[1]))\n",
    "    \n",
    "    conn.commit()\n",
    "    \n",
    "    if len(df_old):\n",
    "        for i in df_old.index:\n",
    "            r = df_old.loc[i]\n",
    "            #print(r)\n",
    "            cur.execute(updateSql.format(bs_tensorflow, f'p{n}', r[1], i))\n",
    "    \n",
    "    conn.commit()\n",
    "    \n",
    "    index = index.append(df_new.index)\n",
    "    \n",
    "    print(n, len(index))\n",
    "\n"
   ]
  },
  {
   "cell_type": "code",
   "execution_count": null,
   "metadata": {},
   "outputs": [],
   "source": [
    "# Close database connection\n",
    "database.close_connection()"
   ]
  }
 ],
 "metadata": {
  "kernelspec": {
   "display_name": "Python 3",
   "language": "python",
   "name": "python3"
  },
  "language_info": {
   "codemirror_mode": {
    "name": "ipython",
    "version": 3
   },
   "file_extension": ".py",
   "mimetype": "text/x-python",
   "name": "python",
   "nbconvert_exporter": "python",
   "pygments_lexer": "ipython3",
   "version": "3.8.4"
  }
 },
 "nbformat": 4,
 "nbformat_minor": 4
}
