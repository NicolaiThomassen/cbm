{
 "cells": [
  {
   "cell_type": "markdown",
   "metadata": {},
   "source": [
    "# Signature Extracts\n",
    "\n",
    "Create 5-day averaged CARD-BS signatures for all fields in the dk2018_bs_signatures.\n"
   ]
  },
  {
   "cell_type": "code",
   "execution_count": 23,
   "metadata": {},
   "outputs": [],
   "source": [
    "from datetime import datetime, timedelta\n",
    "import psycopg2\n"
   ]
  },
  {
   "cell_type": "code",
   "execution_count": null,
   "metadata": {},
   "outputs": [],
   "source": [
    "# Conect to the database\n",
    "conn = psycopg2.connect(\n",
    "    host=\"localhost\",\n",
    "    database=\"postgres\",\n",
    "    user=\"postgres\",\n",
    "    password=\"\")\n",
    "cur = conn.cursor()\n"
   ]
  },
  {
   "cell_type": "code",
   "execution_count": null,
   "metadata": {},
   "outputs": [],
   "source": [
    "# Set the table names\n",
    "parcels_table = \"aoi2020\"\n",
    "bs_extracts = 'aoi2020_bs_extracts'\n",
    "bs_signatures = 'aoi2020_bs_signatures'\n",
    "parcels_1 = 'aoi2020'\n",
    "\n",
    "# Set stert and end date\n",
    "start_date = datetime.strptime(\"2018-04-16\", '%Y-%m-%d')\n",
    "end_date = datetime.strptime(\"2018-12-27\", '%Y-%m-%d')"
   ]
  },
  {
   "cell_type": "code",
   "execution_count": 3,
   "metadata": {},
   "outputs": [
    {
     "name": "stdout",
     "output_type": "stream",
     "text": [
      "15 2018-04-16 00:00:00 2018-04-21 00:00:00\n",
      "16 2018-04-21 00:00:00 2018-04-26 00:00:00\n",
      "17 2018-04-26 00:00:00 2018-05-01 00:00:00\n",
      "18 2018-05-01 00:00:00 2018-05-06 00:00:00\n",
      "19 2018-05-06 00:00:00 2018-05-11 00:00:00\n",
      "20 2018-05-11 00:00:00 2018-05-16 00:00:00\n",
      "21 2018-05-16 00:00:00 2018-05-21 00:00:00\n",
      "22 2018-05-21 00:00:00 2018-05-26 00:00:00\n",
      "23 2018-05-26 00:00:00 2018-05-31 00:00:00\n",
      "24 2018-05-31 00:00:00 2018-06-05 00:00:00\n",
      "25 2018-06-05 00:00:00 2018-06-10 00:00:00\n",
      "26 2018-06-10 00:00:00 2018-06-15 00:00:00\n",
      "27 2018-06-15 00:00:00 2018-06-20 00:00:00\n",
      "28 2018-06-20 00:00:00 2018-06-25 00:00:00\n",
      "29 2018-06-25 00:00:00 2018-06-30 00:00:00\n",
      "30 2018-06-30 00:00:00 2018-07-05 00:00:00\n",
      "31 2018-07-05 00:00:00 2018-07-10 00:00:00\n",
      "32 2018-07-10 00:00:00 2018-07-15 00:00:00\n",
      "33 2018-07-15 00:00:00 2018-07-20 00:00:00\n",
      "34 2018-07-20 00:00:00 2018-07-25 00:00:00\n",
      "35 2018-07-25 00:00:00 2018-07-30 00:00:00\n",
      "36 2018-07-30 00:00:00 2018-08-04 00:00:00\n",
      "37 2018-08-04 00:00:00 2018-08-09 00:00:00\n",
      "38 2018-08-09 00:00:00 2018-08-14 00:00:00\n",
      "39 2018-08-14 00:00:00 2018-08-19 00:00:00\n",
      "40 2018-08-19 00:00:00 2018-08-24 00:00:00\n",
      "41 2018-08-24 00:00:00 2018-08-29 00:00:00\n",
      "42 2018-08-29 00:00:00 2018-09-03 00:00:00\n",
      "43 2018-09-03 00:00:00 2018-09-08 00:00:00\n",
      "44 2018-09-08 00:00:00 2018-09-13 00:00:00\n",
      "45 2018-09-13 00:00:00 2018-09-18 00:00:00\n",
      "46 2018-09-18 00:00:00 2018-09-23 00:00:00\n",
      "47 2018-09-23 00:00:00 2018-09-28 00:00:00\n",
      "48 2018-09-28 00:00:00 2018-10-03 00:00:00\n",
      "49 2018-10-03 00:00:00 2018-10-08 00:00:00\n",
      "50 2018-10-08 00:00:00 2018-10-13 00:00:00\n",
      "51 2018-10-13 00:00:00 2018-10-18 00:00:00\n",
      "52 2018-10-18 00:00:00 2018-10-23 00:00:00\n",
      "53 2018-10-23 00:00:00 2018-10-28 00:00:00\n",
      "54 2018-10-28 00:00:00 2018-11-02 00:00:00\n",
      "55 2018-11-02 00:00:00 2018-11-07 00:00:00\n",
      "56 2018-11-07 00:00:00 2018-11-12 00:00:00\n",
      "57 2018-11-12 00:00:00 2018-11-17 00:00:00\n",
      "58 2018-11-17 00:00:00 2018-11-22 00:00:00\n",
      "59 2018-11-22 00:00:00 2018-11-27 00:00:00\n",
      "60 2018-11-27 00:00:00 2018-12-02 00:00:00\n",
      "61 2018-12-02 00:00:00 2018-12-07 00:00:00\n",
      "62 2018-12-07 00:00:00 2018-12-12 00:00:00\n",
      "63 2018-12-12 00:00:00 2018-12-17 00:00:00\n",
      "64 2018-12-17 00:00:00 2018-12-22 00:00:00\n",
      "65 2018-12-22 00:00:00 2018-12-27 00:00:00\n",
      "66 2018-12-27 00:00:00 2019-01-01 00:00:00\n",
      "67 2019-01-01 00:00:00 2019-01-06 00:00:00\n",
      "68 2019-01-06 00:00:00 2019-01-11 00:00:00\n",
      "69 2019-01-11 00:00:00 2019-01-16 00:00:00\n",
      "70 2019-01-16 00:00:00 2019-01-21 00:00:00\n",
      "71 2019-01-21 00:00:00 2019-01-26 00:00:00\n",
      "72 2019-01-26 00:00:00 2019-01-31 00:00:00\n",
      "The connection to the database is now closed.\n"
     ]
    }
   ],
   "source": [
    "\n",
    "step_period = 5\n",
    "start_period = 0\n",
    "\n",
    "start_date = start_date + timedelta(days=start_period*step_period)\n",
    "\n",
    "insertSql = f\"\"\"\n",
    "    INSERT into {bs_extracts} (pid, band, period, mean, count) \n",
    "    SELECT pid::int, band, {{}} As period, avg(mean) As mean, count(mean) As count \n",
    "    FROM {bs_signatures}, {parcels_table} \n",
    "    WHERE obsid In (SELECT id from {dias_catalog}\n",
    "        WHERE status ='extracted' And card ='bs'\n",
    "        And obstime between '{start_date}' And '{end_date}')\n",
    "    And pid = {parcels_table}.ogc_fid\n",
    "    And inaoi\n",
    "    GROUP by pid, band;\n",
    "\"\"\"\n",
    "\n",
    "for i in range(start_period, 5):\n",
    "    end_date = start_date + timedelta(days=step_period)\n",
    "    print(insertSql)\n",
    "    try:\n",
    "        cur.execute(insertSql.format(i))\n",
    "        conn.commit()\n",
    "    except Error as e:\n",
    "        print(e)\n",
    "    \n",
    "    print(i, start_date, end_date)\n",
    "    \n",
    "    start_date = end_date"
   ]
  },
  {
   "cell_type": "code",
   "execution_count": null,
   "metadata": {},
   "outputs": [],
   "source": [
    "# Close database connection \n",
    "database.close_connection()"
   ]
  },
  {
   "cell_type": "code",
   "execution_count": null,
   "metadata": {},
   "outputs": [],
   "source": []
  }
 ],
 "metadata": {
  "kernelspec": {
   "display_name": "Python 3",
   "language": "python",
   "name": "python3"
  },
  "language_info": {
   "codemirror_mode": {
    "name": "ipython",
    "version": 3
   },
   "file_extension": ".py",
   "mimetype": "text/x-python",
   "name": "python",
   "nbconvert_exporter": "python",
   "pygments_lexer": "ipython3",
   "version": "3.8.4"
  }
 },
 "nbformat": 4,
 "nbformat_minor": 4
}
