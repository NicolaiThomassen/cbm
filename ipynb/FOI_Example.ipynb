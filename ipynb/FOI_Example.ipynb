{
 "cells": [
  {
   "cell_type": "markdown",
   "id": "f00120f7-2adc-4119-b57c-c7b98078a82f",
   "metadata": {},
   "source": [
    "![EC JRC](../docs/img/eu_science_hub.png)\n",
    "\n",
    "# Jupyter notebook FOI example\n",
    "\n",
    "    This file is part of CbM (https://github.com/ec-jrc/cbm).\n",
    "    Copyright : 2021 European Commission, Joint Research Centre\n",
    "    License   : 3-Clause BSD"
   ]
  },
  {
   "cell_type": "markdown",
   "id": "6b471a7c-5e8b-42f4-883b-a2dc62f3c74e",
   "metadata": {},
   "source": [
    "## Interactive Jupyter Notebook widget for FOI Assessment: Heterogeneity and Cardinality\n",
    "\n",
    "More information at: [jrc-cbm.readthedocs.io/en/latest/cbm_foi](https://jrc-cbm.readthedocs.io/en/latest/cbm_foi.html)"
   ]
  },
  {
   "cell_type": "code",
   "execution_count": null,
   "id": "022d5f6a-2be7-481c-8c3b-488985ec8dd4",
   "metadata": {},
   "outputs": [],
   "source": [
    "from cbm import ipycbm\n",
    "ipycbm.foi()"
   ]
  },
  {
   "cell_type": "markdown",
   "id": "d989779f-43c7-4bfb-ba81-33f204456b74",
   "metadata": {},
   "source": [
    "# V1 non interactive"
   ]
  },
  {
   "cell_type": "code",
   "execution_count": null,
   "id": "3a8b742d-f1d8-45da-ab0b-3753666e919d",
   "metadata": {},
   "outputs": [],
   "source": [
    "import cbm\n",
    "\n",
    "vector_file = \"foi_data/parcels2020.shp\"\n",
    "raster_file = \"foi_data/raster.tif\"\n",
    "yaml_file = \"foi_data/pixelvalues_classes.yml\"\n",
    "pre_min_het = 30\n",
    "pre_max_het = 70\n",
    "area_threshold = 2000\n",
    "\n",
    "cbm.foi.v1(vector_file, raster_file, yaml_file,\n",
    "    pre_min_het, pre_max_het, area_threshold)"
   ]
  },
  {
   "cell_type": "markdown",
   "id": "dc300c90-885e-49e1-b3c1-1f7e9c90cd51",
   "metadata": {},
   "source": [
    "# V2 non interactive"
   ]
  },
  {
   "cell_type": "code",
   "execution_count": null,
   "id": "699655f2-f175-487a-ae88-a87beec04347",
   "metadata": {},
   "outputs": [],
   "source": [
    "import cbm\n",
    "\n",
    "vector_file = \"foi_data/parcels.shp\"\n",
    "raster_file = \"foi_data/raster.tif\"\n",
    "yaml_file = \"foi_data/pixelvalues_classes.yml\"\n",
    "negative_buffer = -10\n",
    "min_heterogeneity_threshold = 30\n",
    "max_heterogeneity_threshold = 70\n",
    "connectivity_option = 8\n",
    "cluster_threshold = 20\n",
    "\n",
    "cbm.foi.v2(vector_file, raster_file, yaml_file, negative_buffer, min_heterogeneity_threshold,\n",
    "    max_heterogeneity_threshold, connectivity_option, cluster_threshold)"
   ]
  },
  {
   "cell_type": "markdown",
   "id": "013bf3be-8722-476d-813a-c00eed7cb2f6",
   "metadata": {},
   "source": [
    "# Import FOI database functions"
   ]
  },
  {
   "cell_type": "code",
   "execution_count": null,
   "id": "8a2d03f4-2384-433d-a133-e25a4f97678c",
   "metadata": {},
   "outputs": [],
   "source": [
    "# Set the database credentials\n",
    "# import required libraries for this Notebook\n",
    "import psycopg2\n",
    "import glob\n",
    "import time\n",
    "\n",
    "\n",
    "DB_HOST = '172.17.0.2'\n",
    "DB_NAME = 'postgres'\n",
    "DB_USER = 'postgres'\n",
    "DB_PORT = '5432'\n",
    "DB_PASS = ''\n",
    "DB_SCHE = 'public'\n",
    "\n",
    "conn_str = f\"host={DB_HOST} dbname={DB_NAME} user={DB_USER} port={DB_PORT} password={DB_PASS}\"\n",
    "\n",
    "# Connect to the database\n",
    "conn = psycopg2.connect(conn_str)"
   ]
  },
  {
   "cell_type": "code",
   "execution_count": null,
   "id": "a148809b-471e-4e5e-bae6-fa6af45c5222",
   "metadata": {},
   "outputs": [],
   "source": [
    "path_foi_func = 'foi_db_func'\n",
    "functions = glob.glob(f\"{path_foi_func}/*.func\")\n",
    "\n",
    "for function in functions:\n",
    "    with open(function) as f:\n",
    "        func = f.read()\n",
    "\n",
    "    sql = func.format(schema='public', owner='postgres')\n",
    "\n",
    "    conn.set_isolation_level(psycopg2.extensions.ISOLATION_LEVEL_AUTOCOMMIT)\n",
    "    cur = conn.cursor(cursor_factory=psycopg2.extras.RealDictCursor)\n",
    "    cur.execute(sql)\n",
    "    time.sleep(0.5)\n",
    "\n",
    "conn.close()"
   ]
  },
  {
   "cell_type": "code",
   "execution_count": null,
   "id": "436a5539-1d83-48a1-9254-463dc76c5f23",
   "metadata": {},
   "outputs": [],
   "source": []
  }
 ],
 "metadata": {
  "kernelspec": {
   "display_name": "Python 3",
   "language": "python",
   "name": "python3"
  },
  "language_info": {
   "codemirror_mode": {
    "name": "ipython",
    "version": 3
   },
   "file_extension": ".py",
   "mimetype": "text/x-python",
   "name": "python",
   "nbconvert_exporter": "python",
   "pygments_lexer": "ipython3",
   "version": "3.9.2"
  }
 },
 "nbformat": 4,
 "nbformat_minor": 5
}
