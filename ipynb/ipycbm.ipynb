{
 "cells": [
  {
   "cell_type": "markdown",
   "metadata": {
    "slideshow": {
     "slide_type": "slide"
    }
   },
   "source": [
    "![EC JRC](../docs/img/eu_science_hub.png)\n",
    "\n",
    "# Jupyter notebooks interactive widgets for CbM **'ipycbm'**\n",
    "\n",
    "    This file is part of CbM (https://github.com/ec-jrc/cbm).\n",
    "    Copyright : 2021 European Commission, Joint Research Centre\n",
    "    License   : 3-Clause BSD\n",
    "\n",
    "\n",
    "The ipycbm subpackage of cbm python library provides an easy way to get and view data with the use of python widgets for notebooks 'ipywidgets'. ipywidgets, also known as jupyter-widgets or simply widgets, are interactive HTML widgets for Jupyter notebooks and the IPython kernel.\n",
    "\n",
    "ipycbm includes the following main functions:\n",
    "\n",
    "| Panels   |  Description | Use |\n",
    "|----------|------|------|\n",
    "| get() |  Get data from servers with different methods (coordinates, parcels ids, map marker, polygon*) | D,R |\n",
    "| view() | View the data in many different ways**, with easy selection of the view method. | D,R |\n",
    "| process() | For running extraction routines and other cbm tasks | D |\n",
    "| foi() | The FOI procedures notebook graphical interface |  |\n",
    "| qa() | The Quality Assessment (QA) notebook graphical interface | D,R |\n",
    "\n",
    "Use: D=Can be used with direct access, R=Can be used with RESTful API\n",
    "\n",
    "The above widgets are combinations of other widgets, for more details see see the [\"CbB overview\"](https://jrc-cbm.readthedocs.io/en/latest/cbm_overview.html) chapter of the documentation.\n",
    "\n",
    "There are two methods to get parcel data, one is with the use of a RESTful API and the other with direct access to the database and object storage. RESTful API is the preferred method to retrieve and view the parcels data. To retrieve data from a RESTful API a relevant server is needed, see the [\"Build a RESTful API\"](https://jrc-cbm.readthedocs.io/en/latest/api_build.html) chapter of the documentation for setup instructions. To run the extraction procedures functions, direct access is required."
   ]
  },
  {
   "cell_type": "markdown",
   "metadata": {},
   "source": [
    "## Interactive python subpackage of cbm"
   ]
  },
  {
   "cell_type": "code",
   "execution_count": null,
   "metadata": {
    "slideshow": {
     "slide_type": "slide"
    }
   },
   "outputs": [],
   "source": [
    "# Import the python library ipycbm\n",
    "from cbm import ipycbm"
   ]
  },
  {
   "cell_type": "code",
   "execution_count": null,
   "metadata": {},
   "outputs": [],
   "source": [
    "# Open CbM configuration widget.\n",
    "ipycbm.config()"
   ]
  },
  {
   "cell_type": "code",
   "execution_count": null,
   "metadata": {
    "slideshow": {
     "slide_type": "slide"
    }
   },
   "outputs": [],
   "source": [
    "# Download data from RESTful API or directly from database.\n",
    "ipycbm.get()"
   ]
  },
  {
   "cell_type": "code",
   "execution_count": null,
   "metadata": {
    "slideshow": {
     "slide_type": "slide"
    }
   },
   "outputs": [],
   "source": [
    "# Display the data with easy selectable predefined view options.\n",
    "ipycbm.view()"
   ]
  },
  {
   "cell_type": "code",
   "execution_count": null,
   "metadata": {},
   "outputs": [],
   "source": [
    "# Run signatures extraction procedures.\n",
    "# - Upload parcels datasets, add parcels to database tables\n",
    "# - create the essential CbM tables\n",
    "# - run parcel extraction routines\n",
    "ipycbm.proc()"
   ]
  },
  {
   "cell_type": "code",
   "execution_count": null,
   "metadata": {},
   "outputs": [],
   "source": [
    "# Interactive panel for Quality Assessment (QA) procedures.\n",
    "ipycbm.qa()"
   ]
  },
  {
   "cell_type": "code",
   "execution_count": null,
   "metadata": {},
   "outputs": [],
   "source": [
    "# Interactive panel for FOI procedures.\n",
    "ipycbm.foi()"
   ]
  },
  {
   "cell_type": "code",
   "execution_count": null,
   "metadata": {},
   "outputs": [],
   "source": []
  }
 ],
 "metadata": {
  "kernelspec": {
   "display_name": "Python 3",
   "language": "python",
   "name": "python3"
  },
  "language_info": {
   "codemirror_mode": {
    "name": "ipython",
    "version": 3
   },
   "file_extension": ".py",
   "mimetype": "text/x-python",
   "name": "python",
   "nbconvert_exporter": "python",
   "pygments_lexer": "ipython3",
   "version": "3.8.4"
  },
  "rise": {
   "enable_chalkboard": true
  }
 },
 "nbformat": 4,
 "nbformat_minor": 4
}
