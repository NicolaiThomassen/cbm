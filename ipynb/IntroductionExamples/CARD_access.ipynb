{
 "cells": [
  {
   "cell_type": "markdown",
   "metadata": {},
   "source": [
    "# Object Storage\n",
    "\n",
    "DIAS instances store both the original Sentinel data (as downloaded from ESA Copernicus hub) and the processed CARD products on object storage. The CREODIAS, MUNDI and SOBLOO instances use S3 storage, which is similar to the storage solution used by Amazon Web Services (AWS). ONDA uses ENS. In all cases, there is a need to discover and transfer the required product from object storage to the disks attached to the VMs, in order to process the data.\n",
    "\n",
    "S3 store access requires access credentials that are typically created at DIAS account setup. The credentials, together with the S3 host and bucket details need to be provided to the access protocol that is used to access the data, for instance, inside a python script that transfers the data to disk. \n"
   ]
  },
  {
   "cell_type": "code",
   "execution_count": 1,
   "metadata": {},
   "outputs": [],
   "source": [
    "# import required libraries for this Notebook\n",
    "import os\n",
    "import rasterio\n",
    "from ipywidgets import widgets, HBox\n"
   ]
  },
  {
   "cell_type": "code",
   "execution_count": 2,
   "metadata": {},
   "outputs": [
    {
     "data": {
      "application/vnd.jupyter.widget-view+json": {
       "model_id": "2071ef74185d4df1aec4d9ad79981a0a",
       "version_major": 2,
       "version_minor": 0
      },
      "text/plain": [
       "VBox(children=(HBox(children=(Dropdown(description='DIAS Provider: ', options=('CREODIAS', 'MUNDI', 'SOBLOO', …"
      ]
     },
     "metadata": {},
     "output_type": "display_data"
    }
   ],
   "source": [
    "# Note: Boto3 can not retrieve public buckets. If the bucket is public, enter\n",
    "# the name of the bucket in the configuration file 'config/config.json'\n",
    "# config_ui.all_configurations() # To display the widget for all the configurations.\n",
    "\n",
    "dias = widgets.Dropdown(\n",
    "    options=['CREODIAS', 'MUNDI', 'SOBLOO', 'ONDA', 'WEKEO', 'EOSC'],\n",
    "    description='DIAS Provider: ')\n",
    "\n",
    "bucket_name = widgets.Text(\n",
    "        value='DIAS',\n",
    "        placeholder='Bucket',\n",
    "        description='Bucket:',\n",
    "        disabled=False)\n",
    "\n",
    "only_images = widgets.Checkbox(\n",
    "    value=True,\n",
    "    description='Show only images',\n",
    "    disabled=False)\n",
    "\n",
    "check_for_hdr = widgets.Checkbox(\n",
    "    value=True,\n",
    "    description='Check for header file',\n",
    "    disabled=False)\n",
    "\n",
    "reference = widgets.Text(\n",
    "        value='',\n",
    "        placeholder='Reference',\n",
    "        description='Ref. or Prefix:',\n",
    "        disabled=False)\n",
    "\n",
    "bucket_options = widgets.VBox(children=[widgets.HBox([dias, bucket_name, reference]),\n",
    "                                       widgets.HBox([only_images, check_for_hdr])])\n",
    "bucket_options\n",
    "\n",
    "# Use with: <variable name>.value\n",
    "# To filter the results use a prefix (e.g. 'Sentinel-2/MSI/L1C/2018/12/08/', 'S2B/ ').\n",
    "# Reference example:\n",
    "# S2B_MSIL2A_20180903T105019_N0208_R051_T31TCG_20180903T171953.SAFE"
   ]
  },
  {
   "cell_type": "code",
   "execution_count": 3,
   "metadata": {
    "scrolled": true
   },
   "outputs": [
    {
     "name": "stdout",
     "output_type": "stream",
     "text": [
      "The file 'config/main.json' did not exist, a new default   file was created.\n",
      "\n",
      "Could not retrieve list of the files from the selected buckets: Invalid endpoint: http://\n"
     ]
    },
    {
     "data": {
      "application/vnd.jupyter.widget-view+json": {
       "model_id": "8a1d85fda7614970aca0598c15d962aa",
       "version_major": 2,
       "version_minor": 0
      },
      "text/plain": [
       "Dropdown(description='Select file: ', options=(), value=None)"
      ]
     },
     "metadata": {},
     "output_type": "display_data"
    }
   ],
   "source": [
    "# Get list of files from the selected bucket, args: (bucket name, prefix).\n",
    "from cbm.sources import object_storage\n",
    "if reference.value != '':\n",
    "    if '/' not in reference.value:\n",
    "        if len(reference.value.split('_')) == 7 or len(reference.value.split('_')) == 11:\n",
    "            try:\n",
    "                s3path, file_info = object_storage.get_file_location(reference.value, dias.value)\n",
    "                prefix = s3path\n",
    "                print(1)\n",
    "            except:\n",
    "                print(\"Can not get information from the reference\")\n",
    "                prefix = reference.value\n",
    "    else:\n",
    "        prefix = reference.value\n",
    "else:\n",
    "    prefix = reference.value\n",
    "\n",
    "print(prefix)\n",
    "bucket_files = object_storage.list_files(bucket_name.value, prefix)\n",
    "\n",
    "file_list = []\n",
    "if bucket_files is not None:\n",
    "    if only_images.value is True:\n",
    "        for f in bucket_files:\n",
    "            file = f['Key'].replace(prefix, '', 1)\n",
    "            if file.lower().endswith(('.png', '.jpg', '.jpeg', '.tiff',\n",
    "                                       '.bmp', '.gif', '.tif', '.img', 'jp2')):\n",
    "                file_list.append(file)\n",
    "        if len(file_list) == 0:\n",
    "            print(f\"! No files found. !\")\n",
    "        else:\n",
    "            print(\"Select an image file from the dropdown list\")\n",
    "\n",
    "    else:\n",
    "        for f in bucket_files:\n",
    "            file = f['Key'].replace(prefix, '', 1)\n",
    "            file_list.append(file)\n",
    "\n",
    "# print(prefix)\n",
    "file_list_widget = widgets.Dropdown(options=file_list, description='Select file: ')\n",
    "file_list_widget\n",
    "\n",
    "# Use with: file_list_widget.value"
   ]
  },
  {
   "cell_type": "markdown",
   "metadata": {},
   "source": [
    "**Note:** The image to be recognized as 'geo' image, depending of the file type, it may need an extra headers file that contains the geographic information of the image, the headers information file usually have an .hdr extension.\n",
    "\n",
    "In case it is needed to download the headers file, uncomment the lines of code for the headers file."
   ]
  },
  {
   "cell_type": "code",
   "execution_count": 16,
   "metadata": {},
   "outputs": [
    {
     "name": "stdout",
     "output_type": "stream",
     "text": [
      "-- File to be downloaded from object storage:\n",
      " Sentinel-2/MSI/L2A/2018/08/01/S2B_MSIL2A_20180801T104019_N0206_R008_T31TCG_20180801T180307.SAFE/GRANULE/L2A_T31TCG_A007327_20180801T104716/IMG_DATA/R10m/T31TCG_20180801T104019_B03_10m.jp2 \n",
      "\n",
      "-- The file will be stored in:\n",
      " /home/_jrc_dias/data/sample_image_from_object_storage.img\n",
      "\n"
     ]
    }
   ],
   "source": [
    "# A sample script to test downloading from s3 object storage.\n",
    "# Select a new name for the file (e.g. 'sample_image').\n",
    "file_name = \"sample_image_from_object_storage\"\n",
    "\n",
    "# Get the selected image.\n",
    "s3image = prefix + file_list_widget.value\n",
    "\n",
    "# Name of the image file to be stored in data folder\n",
    "localimg = f\"temp/{file_name}.img\"\n",
    "\n",
    "print(\"-- File to be downloaded from object storage:\\n\", s3image, '\\n')\n",
    "print(\"-- The file will be stored in:\\n\", localimg)\n",
    "print()"
   ]
  },
  {
   "cell_type": "code",
   "execution_count": 17,
   "metadata": {},
   "outputs": [
    {
     "name": "stdout",
     "output_type": "stream",
     "text": [
      "-Downloading to local file-\n"
     ]
    },
    {
     "data": {
      "application/vnd.jupyter.widget-view+json": {
       "model_id": "5d3ce959d7334875b444caca606fc8b8",
       "version_major": 2,
       "version_minor": 0
      },
      "text/plain": [
       "HBox(children=(FloatProgress(value=0.0, max=82752422.0), HTML(value='')))"
      ]
     },
     "metadata": {},
     "output_type": "display_data"
    },
    {
     "name": "stdout",
     "output_type": "stream",
     "text": [
      "File downloaded as:  /home/_jrc_dias/data/sample_image_from_object_storage.img\n",
      "\n",
      "No header file found.\n"
     ]
    }
   ],
   "source": [
    "# Download image and image information file\n",
    "object_storage.get_file(s3image, localimg, bucket_name.value)\n",
    "\n",
    "# Get the selected image header file (Comment if not applicable).\n",
    "if check_for_hdr.value is True:\n",
    "    try:        \n",
    "        s3header = os.path.splitext(s3image)[0] + \".hdr\"\n",
    "        localhdr = config_ui.folder_data + f\"{file_name}.hdr\"\n",
    "        object_storage.get_file(s3header, localhdr, bucket_name.value)\n",
    "    except Exception:\n",
    "        print(\"No header file found.\")\n"
   ]
  },
  {
   "cell_type": "markdown",
   "metadata": {},
   "source": [
    "**Run the below cell to check if the image is correctly downloaded and recognized as an geo image file.**"
   ]
  },
  {
   "cell_type": "code",
   "execution_count": 18,
   "metadata": {},
   "outputs": [
    {
     "name": "stdout",
     "output_type": "stream",
     "text": [
      "10980 10980\n",
      "EPSG:32631\n",
      "| 10.00, 0.00, 300000.00|\n",
      "| 0.00,-10.00, 4700040.00|\n",
      "| 0.00, 0.00, 1.00|\n",
      "1\n",
      "(1,)\n"
     ]
    }
   ],
   "source": [
    "# Get information for the downloaded raster image\n",
    "with rasterio.open(localimg) as src:\n",
    "    print(src.width, src.height)\n",
    "    print(src.crs)\n",
    "    print(src.transform)\n",
    "    print(src.count)\n",
    "    print(src.indexes)"
   ]
  },
  {
   "cell_type": "code",
   "execution_count": null,
   "metadata": {},
   "outputs": [],
   "source": []
  }
 ],
 "metadata": {
  "kernelspec": {
   "display_name": "Python 3",
   "language": "python",
   "name": "python3"
  },
  "language_info": {
   "codemirror_mode": {
    "name": "ipython",
    "version": 3
   },
   "file_extension": ".py",
   "mimetype": "text/x-python",
   "name": "python",
   "nbconvert_exporter": "python",
   "pygments_lexer": "ipython3",
   "version": "3.8.4"
  }
 },
 "nbformat": 4,
 "nbformat_minor": 4
}
