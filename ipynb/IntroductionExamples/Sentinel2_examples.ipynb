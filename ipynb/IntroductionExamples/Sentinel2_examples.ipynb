{
 "cells": [
  {
   "cell_type": "markdown",
   "metadata": {},
   "source": [
    "# Working with Sentinel-2\n",
    "\n",
    "This notebook demonstrates how to find, load and process Sentinel-2 CARD images on the DIAS.\n",
    "\n",
    "The DIAS stores the CARD images in the S3 store. In order to work with the data in a program (or for downloading), you first need to transfer it to local disk. For this, you need to know the S3 \"end-point\" where the data is stored. For this, we use the DIAS data base.\n"
   ]
  },
  {
   "cell_type": "code",
   "execution_count": null,
   "metadata": {},
   "outputs": [],
   "source": [
    "# import required libraries for this Notebook\n",
    "import os\n",
    "import sys\n",
    "import glob\n",
    "import rasterio\n",
    "import psycopg2\n",
    "import numpy as np\n",
    "import pandas as pd\n",
    "import matplotlib.pyplot as plt\n",
    "from lxml import etree\n",
    "from rasterio import plot\n",
    "from datetime import datetime, time\n",
    "from ipywidgets import widgets\n"
   ]
  },
  {
   "cell_type": "code",
   "execution_count": null,
   "metadata": {},
   "outputs": [],
   "source": [
    "# Select a date for the S2 image \n",
    "obs_date = widgets.DatePicker(description='Obs a Date',disabled=False,\n",
    "                              value=datetime.date(datetime(2018, 8, 14)))\n",
    "obs_date"
   ]
  },
  {
   "cell_type": "code",
   "execution_count": null,
   "metadata": {},
   "outputs": [],
   "source": [
    "# Set the database credentials\n",
    "\n",
    "DB_HOST = '172.17.0.2'\n",
    "DB_NAME = 'postgres'\n",
    "DB_USER = 'postgres'\n",
    "DB_PORT = '5432'\n",
    "DB_PASS = ''\n",
    "DB_SCHE = 'public'\n",
    "\n",
    "conn_str = f\"host={DB_HOST} dbname={DB_NAME} user={DB_USER} port={DB_PORT} password={DB_PASS}\""
   ]
  },
  {
   "cell_type": "code",
   "execution_count": null,
   "metadata": {},
   "outputs": [],
   "source": [
    "# Connect to the database\n",
    "conn = psycopg2.connect(conn_str)"
   ]
  },
  {
   "cell_type": "code",
   "execution_count": null,
   "metadata": {},
   "outputs": [],
   "source": [
    "# Select a parcels id.\n",
    "parcels_table = 'fr.parcels_2020'\n",
    "parcel_id = 410200"
   ]
  },
  {
   "cell_type": "code",
   "execution_count": null,
   "metadata": {
    "scrolled": true
   },
   "outputs": [],
   "source": [
    "# Get the S2 frames that cover a parcel identified by parcel\n",
    "# ID from the dias_catalogue for the selected date.\n",
    "\n",
    "getS2framesSql = f\"\"\"\n",
    "    SELECT reference, obstime, status\n",
    "    FROM dias_catalogue, {parcels_table}\n",
    "    WHERE card = 's2'\n",
    "    And footprint && st_transform(wkb_geometry, 4326)\n",
    "    And ogc_fid = {parcel_id}\n",
    "    ORDER by obstime asc;\n",
    "\"\"\"\n",
    "\n",
    "# Read result set into a pandas dataframe\n",
    "df_s2frames = pd.read_sql_query(getS2framesSql, conn)\n",
    "# df_s2frames['obsdate'] = df_s2frames['obstime'].dt.date\n",
    "# df_s2frame = df_s2frames[(df_s2frames['obsdate'] == obs_date.value)]\n",
    "\n",
    "df_s2frames"
   ]
  },
  {
   "cell_type": "markdown",
   "metadata": {},
   "source": [
    "The _reference_ attribute provides the S3 address for each S2 CARD image. However, this is only the top entry point (like the top directory in a directory tree). To access individual (image) files, we need to first discover the relevant file locations. \n",
    "\n",
    "To access S3 stored objects, we need the __boto3__ python library and __S3 access credentials__. We use the __object_storage.py__ script to search for and copy files from S3 to local disk. \n",
    "\n"
   ]
  },
  {
   "cell_type": "code",
   "execution_count": null,
   "metadata": {},
   "outputs": [],
   "source": [
    "# Get the first reference from the dataframe. (reference.value)\n",
    "reference = df_s2frame['reference'].tolist()[0]\n",
    "\n",
    "s3path, file_info = object_storage.get_file_location(reference)\n",
    "fpath = f\"{data_}{file_info['sat']}_{file_info['full_tstamp']}/\"\n",
    "\n",
    "print(\"The path of the files in the object storage is: \\n\" + s3path)\n",
    "print(\"\\nThe local path of the files is: \\n\" + fpath)"
   ]
  },
  {
   "cell_type": "code",
   "execution_count": null,
   "metadata": {},
   "outputs": [],
   "source": [
    "# Get list of files from the bucket.\n",
    "bucket_files = object_storage.list_files(bucket, s3path)\n",
    "key_list = [file['Key'] for file in bucket_files]\n",
    "band_list = [s for s in key_list if \"/IMG_DATA/\" in s]\n",
    "\n",
    "# Get the bands for the selected reference.\n",
    "B03_10m = next((x for x in band_list if \"_B03_10m\" in x), None)\n",
    "B04_10m = next((x for x in band_list if \"_B04_10m\" in x), None)\n",
    "B08_10m = next((x for x in band_list if \"_B08_10m\" in x), None)\n",
    "SCL_20m = next((x for x in band_list if \"_SCL_20m\" in x), None)\n",
    "\n",
    "# We want 3 bands in the 10 m resolution and the SCL band at 20 m resolution\n",
    "selection = [B03_10m, B04_10m, B08_10m, SCL_20m]\n",
    "selection"
   ]
  },
  {
   "cell_type": "code",
   "execution_count": null,
   "metadata": {},
   "outputs": [],
   "source": [
    "# Copy input data from S3 to local disk\n",
    "os.makedirs(fpath, exist_ok=True)\n",
    "\n",
    "for s in selection:\n",
    "    try:\n",
    "        local_file = fpath + s[-11:]\n",
    "        object_storage.get_file(s, local_file, bucket)\n",
    "        print(f\"Image {s[-11:]} found in bucket {bucket}\")\n",
    "    except Exeption as err:\n",
    "        print(f\"Image {s[-11:]} NOT found in bucket {bucket}\")"
   ]
  },
  {
   "cell_type": "markdown",
   "metadata": {},
   "source": [
    "In the _IMG_DATA_ 'folder' of the _s3path_, we expect to find the image bands. We select the 10 m bands to create some visualizations and show some simple image processing steps.  "
   ]
  },
  {
   "cell_type": "code",
   "execution_count": null,
   "metadata": {},
   "outputs": [],
   "source": [
    "%matplotlib inline\n",
    "\n",
    "file_set = sorted(glob.glob(f\"{fpath}*_10m.jp2\"))\n",
    "print(file_set)"
   ]
  },
  {
   "cell_type": "code",
   "execution_count": null,
   "metadata": {},
   "outputs": [],
   "source": [
    "#import bands as separate 1 band raster\n",
    "band3 = rasterio.open(file_set[0], driver='JP2OpenJPEG') #green\n",
    "band4 = rasterio.open(file_set[1], driver='JP2OpenJPEG') #red\n",
    "band8 = rasterio.open(file_set[2], driver='JP2OpenJPEG') #nir\n",
    "\n",
    "fig, (ax1, ax2, ax3) = plt.subplots(1, 3, figsize=(12, 4))\n",
    "plot.show(band3, ax=ax1, cmap='Blues')\n",
    "plot.show(band4, ax=ax2, cmap='Greens')\n",
    "plot.show(band8, ax=ax3, cmap='Reds')\n",
    "fig.tight_layout()"
   ]
  },
  {
   "cell_type": "code",
   "execution_count": null,
   "metadata": {},
   "outputs": [],
   "source": [
    "#export true color image\n",
    "falseColor = None \n",
    "\n",
    "falseColor = rasterio.open(fpath + 'SentinelFalseColor.png','w',driver='PNG',\n",
    "                         width=band8.width, height=band8.height,\n",
    "                         count=3,\n",
    "                         crs=band8.crs,\n",
    "                         transform=band8.transform,\n",
    "                         dtype=band8.dtypes[0]\n",
    "                         )\n",
    "falseColor.write(band8.read(1),1) #nir\n",
    "falseColor.write(band4.read(1),2) #red\n",
    "falseColor.write(band3.read(1),3) #green\n",
    "falseColor.close()\n",
    "\n",
    "src = rasterio.open(fpath + 'SentinelFalseColor.png', count=3)\n",
    "plot.show(src)"
   ]
  },
  {
   "cell_type": "code",
   "execution_count": null,
   "metadata": {},
   "outputs": [],
   "source": [
    "# from rasterio import Window\n",
    "#src = rasterio.open(r\"SentinelFalseColor.png\", window = (0, 0, 800, 800), count=3)\n",
    "with rasterio.open(fpath + 'SentinelFalseColor.png', count=3) as src:\n",
    "     w = src.read([1,2,3], window=((5000, 5200), (5000, 5200)))\n",
    "\n",
    "print(w.shape)\n",
    "\n",
    "cmaps = ['Blues', 'Greens', 'Reds', 'gray']\n",
    "\n",
    "for b in [0,1,2]:\n",
    "    w_5 = np.percentile(w[b], 5.0)\n",
    "    w_95 = np.percentile(w[b], 95.0)\n",
    "    print(b, round(w_5,3), round(w_95,3))\n",
    "\n",
    "    image = np.clip(255 * (w[b] - w_5) /(w_95 - w_5), 0, 255).astype(np.uint8)\n",
    "\n",
    "    plot.show(image, cmap=cmaps[b])"
   ]
  },
  {
   "cell_type": "code",
   "execution_count": null,
   "metadata": {},
   "outputs": [],
   "source": [
    "plot.show_hist(w, bins=50, lw=0.0, stacked=False, alpha=0.3, histtype='stepfilled', title=\"Histogram\")\n"
   ]
  },
  {
   "cell_type": "code",
   "execution_count": null,
   "metadata": {},
   "outputs": [],
   "source": [
    "# Close database connection\n",
    "conn.close()"
   ]
  },
  {
   "cell_type": "code",
   "execution_count": null,
   "metadata": {},
   "outputs": [],
   "source": []
  }
 ],
 "metadata": {
  "kernelspec": {
   "display_name": "Python 3",
   "language": "python",
   "name": "python3"
  },
  "language_info": {
   "codemirror_mode": {
    "name": "ipython",
    "version": 3
   },
   "file_extension": ".py",
   "mimetype": "text/x-python",
   "name": "python",
   "nbconvert_exporter": "python",
   "pygments_lexer": "ipython3",
   "version": "3.9.2"
  }
 },
 "nbformat": 4,
 "nbformat_minor": 4
}
