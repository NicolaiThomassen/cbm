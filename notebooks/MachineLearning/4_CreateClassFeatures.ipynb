{
 "cells": [
  {
   "cell_type": "markdown",
   "metadata": {},
   "source": [
    "## Create calss features"
   ]
  },
  {
   "cell_type": "code",
   "execution_count": 1,
   "metadata": {},
   "outputs": [],
   "source": [
    "import pandas as pd\n",
    "import numpy as np"
   ]
  },
  {
   "cell_type": "code",
   "execution_count": null,
   "metadata": {},
   "outputs": [],
   "source": [
    "# Set the table names\n",
    "parcels_table = \"aoi2020\"\n",
    "\n",
    "# Set the folder to store the data\n",
    "data_folder = ''"
   ]
  },
  {
   "cell_type": "code",
   "execution_count": 3,
   "metadata": {},
   "outputs": [
    {
     "name": "stdout",
     "output_type": "stream",
     "text": [
      "149771\n",
      "     pid     vv_11     vh_11     vv_12     vh_12     vv_13     vh_13  \\\n",
      "0   2118  0.115742  0.019568  0.106761  0.022802  0.073332  0.017256   \n",
      "1   2276  0.163081  0.025636  0.141500  0.028902  0.118950  0.022615   \n",
      "2   2539  0.088371  0.020628  0.077270  0.016876  0.061039  0.017164   \n",
      "3   8167  0.124542  0.021086  0.132400  0.025999  0.104094  0.022668   \n",
      "4   8393  0.116159  0.019968  0.115563  0.015892  0.113459  0.017711   \n",
      "5   8576  0.091986  0.017822  0.094425  0.018385  0.085235  0.018905   \n",
      "6   8999  0.126829  0.027815  0.119964  0.025726  0.119701  0.026935   \n",
      "7  16575  0.096109  0.024463  0.091160  0.020455  0.086190  0.021545   \n",
      "8  16831  0.141385  0.021356  0.119944  0.018747  0.139212  0.019787   \n",
      "9  18145  0.131293  0.020672  0.126090  0.019701  0.156516  0.026141   \n",
      "\n",
      "      vv_14     vh_14     vv_15  ...     vh_47     vv_48     vh_48     vv_49  \\\n",
      "0  0.093596  0.026564  0.082563  ...  0.024401  0.146635  0.024775  0.152747   \n",
      "1  0.146834  0.034930  0.151481  ...  0.030097  0.142815  0.034700  0.196909   \n",
      "2  0.074199  0.020374  0.052222  ...  0.024750  0.188327  0.022737  0.174195   \n",
      "3  0.132402  0.034207  0.072899  ...  0.018198  0.120079  0.017969  0.141106   \n",
      "4  0.142631  0.029332  0.073274  ...  0.018758  0.094248  0.017166  0.094289   \n",
      "5  0.111509  0.030461  0.066752  ...  0.016376  0.123264  0.016353  0.168696   \n",
      "6  0.139851  0.033535  0.082965  ...  0.023673  0.120766  0.023203  0.132021   \n",
      "7  0.104874  0.032238  0.076265  ...  0.017240  0.081434  0.017209  0.087872   \n",
      "8  0.265533  0.029006  0.110561  ...  0.019822  0.091036  0.021049  0.095035   \n",
      "9  0.314202  0.047127  0.137088  ...  0.028367  0.138140  0.024470  0.145175   \n",
      "\n",
      "      vh_49     vv_50     vh_50     vv_51     vh_51  class  \n",
      "0  0.024763  0.118370  0.023887  0.121044  0.022854      1  \n",
      "1  0.041987  0.154181  0.031371  0.168172  0.035143      1  \n",
      "2  0.022811  0.158066  0.020885  0.158181  0.020106      1  \n",
      "3  0.024328  0.109907  0.017431  0.124694  0.018385      1  \n",
      "4  0.016339  0.084443  0.013367  0.118864  0.020999      1  \n",
      "5  0.022347  0.105408  0.012325  0.106960  0.012571      1  \n",
      "6  0.025522  0.104224  0.019331  0.116216  0.016434      1  \n",
      "7  0.018846  0.072275  0.013753  0.071198  0.013603      1  \n",
      "8  0.017550  0.076225  0.016328  0.079961  0.024510      7  \n",
      "9  0.023973  0.120577  0.021175  0.116564  0.020711      2  \n",
      "\n",
      "[10 rows x 84 columns]\n"
     ]
    }
   ],
   "source": [
    "dfs = pd.read_csv(f'{data_}{parcels_table}_bs_features.csv')\n",
    "dcc = pd.read_csv(f'{data_}{parcels_table}_cropclasses.csv')\n",
    "\n",
    "dcombi = pd.merge(dfs, dcc, left_on='pid', right_on='ogc_fid')\n",
    "dcombi.drop('ogc_fid', axis=1, inplace=True)\n",
    "\n",
    "dcombi.dropna(inplace=True)\n",
    "\n",
    "print(len(dcombi))\n",
    "print(dcombi[0:10])\n"
   ]
  },
  {
   "cell_type": "code",
   "execution_count": 4,
   "metadata": {},
   "outputs": [
    {
     "name": "stdout",
     "output_type": "stream",
     "text": [
      "37442\n",
      "0 149771\n",
      "1 112329\n",
      "2 74887\n",
      "Remainder 37445\n"
     ]
    }
   ],
   "source": [
    "chunks = 4\n",
    "\n",
    "df_test = dcombi.copy(deep=True)\n",
    "\n",
    "samplesize = len(dcombi)//chunks\n",
    "print(samplesize)\n",
    "\n",
    "for i in range(chunks-1):\n",
    "    print(i, len(dcombi))\n",
    "    training = dcombi.take(np.random.permutation(len(dcombi)))[:samplesize]\n",
    "\n",
    "    training.to_csv(f'{data_}{parcels_table}_train_{i}.csv')\n",
    "\n",
    "    dcombi.drop(training.index, inplace=True)\n",
    "\n",
    "    df_test.loc[~df_test.index.isin(training.index)].to_csv(f'{data_}{parcels_table}_test_{i}.csv')\n",
    "\n",
    "\n",
    "print (\"Remainder\", len(dcombi))\n",
    "dcombi.to_csv(f'{data_}{parcels_table}_train_{chunks-1}.csv')\n",
    "df_test.loc[~df_test.index.isin(dcombi.index)].to_csv(f'{data_}{parcels_table}_test_{chunks-1}.csv')\n",
    "\n",
    "\n"
   ]
  },
  {
   "cell_type": "code",
   "execution_count": null,
   "metadata": {},
   "outputs": [],
   "source": []
  }
 ],
 "metadata": {
  "kernelspec": {
   "display_name": "Python 3",
   "language": "python",
   "name": "python3"
  },
  "language_info": {
   "codemirror_mode": {
    "name": "ipython",
    "version": 3
   },
   "file_extension": ".py",
   "mimetype": "text/x-python",
   "name": "python",
   "nbconvert_exporter": "python",
   "pygments_lexer": "ipython3",
   "version": "3.8.4"
  }
 },
 "nbformat": 4,
 "nbformat_minor": 4
}
